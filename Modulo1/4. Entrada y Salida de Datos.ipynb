{
 "cells": [
  {
   "cell_type": "markdown",
   "metadata": {},
   "source": [
    "# ENTRADA Y SALIDA DE DATOS"
   ]
  },
  {
   "cell_type": "markdown",
   "metadata": {},
   "source": [
    "## 1. Entrada de Información por teclado (Input)"
   ]
  },
  {
   "cell_type": "markdown",
   "metadata": {},
   "source": [
    "En python la funcion input() nos ayudará con la tarea de capturar datos del usuario"
   ]
  },
  {
   "cell_type": "code",
   "execution_count": null,
   "metadata": {},
   "outputs": [],
   "source": [
    "# input por defecto nos devuelve datos de tipo texto\n",
    "# SHIFT + ENTER -> EJECUTAR CELDA ACTUAL Y IR A LA SIGUIENTE CELDA\n",
    "# CONTROL + ENTER -> EJECUTAR CELDA ACTUAL\n",
    "numero = input(\"Introduce un número decimal con punto: \")\n",
    "numero"
   ]
  },
  {
   "cell_type": "code",
   "execution_count": null,
   "metadata": {},
   "outputs": [],
   "source": [
    "type(numero)"
   ]
  },
  {
   "cell_type": "code",
   "execution_count": 1,
   "metadata": {},
   "outputs": [
    {
     "ename": "NameError",
     "evalue": "name 'numero' is not defined",
     "output_type": "error",
     "traceback": [
      "\u001b[0;31m---------------------------------------------------------------------------\u001b[0m",
      "\u001b[0;31mNameError\u001b[0m                                 Traceback (most recent call last)",
      "Cell \u001b[0;32mIn[1], line 1\u001b[0m\n\u001b[0;32m----> 1\u001b[0m numero \u001b[38;5;241m=\u001b[39m \u001b[38;5;28mfloat\u001b[39m(\u001b[43mnumero\u001b[49m)\n\u001b[1;32m      2\u001b[0m numero\n",
      "\u001b[0;31mNameError\u001b[0m: name 'numero' is not defined"
     ]
    }
   ],
   "source": [
    "numero = float(numero)\n",
    "numero"
   ]
  },
  {
   "cell_type": "code",
   "execution_count": 2,
   "metadata": {},
   "outputs": [
    {
     "ename": "NameError",
     "evalue": "name 'numero' is not defined",
     "output_type": "error",
     "traceback": [
      "\u001b[0;31m---------------------------------------------------------------------------\u001b[0m",
      "\u001b[0;31mNameError\u001b[0m                                 Traceback (most recent call last)",
      "Cell \u001b[0;32mIn[2], line 2\u001b[0m\n\u001b[1;32m      1\u001b[0m \u001b[38;5;66;03m# tab -> autocompleta texto\u001b[39;00m\n\u001b[0;32m----> 2\u001b[0m \u001b[43mnumero\u001b[49m\n",
      "\u001b[0;31mNameError\u001b[0m: name 'numero' is not defined"
     ]
    }
   ],
   "source": [
    "# tab -> autocompleta texto\n",
    "numero"
   ]
  },
  {
   "cell_type": "code",
   "execution_count": 3,
   "metadata": {},
   "outputs": [
    {
     "ename": "NameError",
     "evalue": "name 'numero' is not defined",
     "output_type": "error",
     "traceback": [
      "\u001b[0;31m---------------------------------------------------------------------------\u001b[0m",
      "\u001b[0;31mNameError\u001b[0m                                 Traceback (most recent call last)",
      "Cell \u001b[0;32mIn[3], line 1\u001b[0m\n\u001b[0;32m----> 1\u001b[0m \u001b[38;5;28mtype\u001b[39m(\u001b[43mnumero\u001b[49m)\n",
      "\u001b[0;31mNameError\u001b[0m: name 'numero' is not defined"
     ]
    }
   ],
   "source": [
    "\n",
    "type(numero)\n"
   ]
  },
  {
   "cell_type": "code",
   "execution_count": null,
   "metadata": {},
   "outputs": [],
   "source": [
    "# shift + tab -> documentacion de la funcion que estoy empleando\n",
    "decimal = float(input(\"Ingrese un valor numerico:  \"))\n",
    "decimal"
   ]
  },
  {
   "cell_type": "code",
   "execution_count": 4,
   "metadata": {},
   "outputs": [
    {
     "ename": "TypeError",
     "evalue": "can only concatenate str (not \"int\") to str",
     "output_type": "error",
     "traceback": [
      "\u001b[0;31m---------------------------------------------------------------------------\u001b[0m",
      "\u001b[0;31mTypeError\u001b[0m                                 Traceback (most recent call last)",
      "Cell \u001b[0;32mIn[4], line 6\u001b[0m\n\u001b[1;32m      3\u001b[0m edad \u001b[38;5;241m=\u001b[39m \u001b[38;5;28minput\u001b[39m(\u001b[38;5;124m'\u001b[39m\u001b[38;5;124mingrese su edad\u001b[39m\u001b[38;5;124m'\u001b[39m)\n\u001b[1;32m      5\u001b[0m \u001b[38;5;66;03m#  aumentando la edad en 2\u001b[39;00m\n\u001b[0;32m----> 6\u001b[0m \u001b[43medad\u001b[49m\u001b[43m \u001b[49m\u001b[38;5;241;43m+\u001b[39;49m\u001b[43m \u001b[49m\u001b[38;5;241;43m2\u001b[39;49m\n",
      "\u001b[0;31mTypeError\u001b[0m: can only concatenate str (not \"int\") to str"
     ]
    }
   ],
   "source": [
    "# CUIDADO -> recordar que input retorna un str\n",
    "\n",
    "edad = input('ingrese su edad')\n",
    "\n",
    "#  aumentando la edad en 2\n",
    "edad + 2\n"
   ]
  },
  {
   "cell_type": "markdown",
   "metadata": {},
   "source": [
    "## 2. Entrada de datos por Argumentos"
   ]
  },
  {
   "cell_type": "markdown",
   "metadata": {},
   "source": [
    "Para poder enviar información a un script y manejarla, tenemos que utilizar la librería de sistema [sys](https://www.geeksforgeeks.org/how-to-use-sys-argv-in-python/). En ella encontraremos la lista argv que almacena los argumentos enviados al script."
   ]
  },
  {
   "cell_type": "code",
   "execution_count": null,
   "metadata": {},
   "outputs": [],
   "source": [
    "# Hacer en vscode\n",
    "import sys\n",
    "print(sys.argv)"
   ]
  },
  {
   "cell_type": "markdown",
   "metadata": {},
   "source": [
    "## 3. Salida de información (Output)"
   ]
  },
  {
   "cell_type": "markdown",
   "metadata": {},
   "source": [
    "La función print nos ayudará a realizar salidas de información"
   ]
  },
  {
   "cell_type": "code",
   "execution_count": null,
   "metadata": {},
   "outputs": [],
   "source": [
    "print('hola')"
   ]
  },
  {
   "cell_type": "code",
   "execution_count": null,
   "metadata": {},
   "outputs": [],
   "source": [
    "## Nota -> Agregando una variable a la cadena de impresión\n",
    "\n",
    "suma = 3 +7 # int\n",
    "\n",
    "# Opcion 1\n",
    "print(\"El valor de la suma es \"+  str(suma)) # str(suma) -> concadenacion solo sirve para strings\n",
    "\n",
    "# Opcion 2 -> Mejor opcion\n",
    "print(f\"El valor de la suma es: {suma}\") # formatea el numero a texto\n",
    "\n",
    "# opcion 3 -> Otra buena Opcion\n",
    "print(\"El valor de la suma es: {}\".format(suma))\n",
    "\n"
   ]
  },
  {
   "cell_type": "code",
   "execution_count": null,
   "metadata": {},
   "outputs": [],
   "source": []
  },
  {
   "cell_type": "code",
   "execution_count": null,
   "metadata": {},
   "outputs": [],
   "source": [
    "'Hola ' + str(2)"
   ]
  },
  {
   "cell_type": "markdown",
   "metadata": {},
   "source": [
    "# EJERCICIOS"
   ]
  },
  {
   "cell_type": "markdown",
   "metadata": {},
   "source": [
    "#### 1. Realiza un programa que lea 2 números por teclado y determine los siguientes aspectos (es suficiene con mostrar True o False):\n",
    "\n",
    "- Si los dos números son iguales\n",
    "- Si los dos números son diferentes\n",
    "- Si el primero es mayor que el segundo\n",
    "- Si el segundo es mayor o igual que el primero"
   ]
  },
  {
   "cell_type": "code",
   "execution_count": null,
   "metadata": {},
   "outputs": [],
   "source": []
  },
  {
   "cell_type": "code",
   "execution_count": 5,
   "metadata": {},
   "outputs": [
    {
     "name": "stdout",
     "output_type": "stream",
     "text": [
      "¿Los dos números son iguales? True\n",
      "¿Los dos números son diferentes? False\n",
      "¿El primer número es mayor que el segunda ? False\n",
      "¿El segundo es mayor o igual al primero ? True\n"
     ]
    }
   ],
   "source": [
    "def main():\n",
    " num1 = float (input (\"Ingrese el primer número a comparar :\"))\n",
    " num2 = float (input (\"Ingrese el segundo numero a comparar :\"))\n",
    "\n",
    " # parte de la comparación \n",
    "\n",
    " Son_iguales = num1 == num2 \n",
    " Son_diferentes = num1 != num2\n",
    " Primero_mayor_al_segundo = num1 > num2\n",
    " Segundo_mayor_al_primero = num2 >= num1\n",
    "\n",
    "  #Imprimir los resultados \n",
    " print(\"¿Los dos números son iguales?\", Son_iguales)\n",
    " print(\"¿Los dos números son diferentes?\", Son_diferentes)\n",
    " print(\"¿El primer número es mayor que el segunda ?\", Primero_mayor_al_segundo)\n",
    " print(\"¿El segundo es mayor o igual al primero ?\", Segundo_mayor_al_primero)\n",
    "if __name__ == \"__main__\": \n",
    "     main()\n"
   ]
  },
  {
   "cell_type": "markdown",
   "metadata": {},
   "source": [
    "### 2. \n",
    "Una panadería vende barras de pan a 3.49€ cada una. El pan que no es el día tiene un descuento del 60%. Escribir un programa que comience leyendo el número de barras vendidas que no son del día. Después el programa debe mostrar el precio habitual de una barra de pan, el descuento que se le hace por no ser fresca y el coste final total."
   ]
  },
  {
   "cell_type": "markdown",
   "metadata": {},
   "source": []
  },
  {
   "cell_type": "code",
   "execution_count": 2,
   "metadata": {},
   "outputs": [
    {
     "name": "stdout",
     "output_type": "stream",
     "text": [
      "El precio normal de una sola barra de pan es: 3.49 €\n",
      "El porcentaje que se realiza como descuento al no ser una barra de pan fresca es:  60%\n",
      "El costo de total de las barras de pan no frescas es: 27.92 €\n"
     ]
    }
   ],
   "source": [
    "def main(): \n",
    " #precio habitual de barra de pan del día\n",
    " precio_habitual = 3.49\n",
    "\n",
    " #El descuento por barra del pan que no es del día (60%)\n",
    " descuento = 0.6\n",
    "\n",
    " #Leer el número de barras vendidas que no son del día. \n",
    " barras_pan_no_recientes = int(input(\"Ingrese el número de barras no frescas vendidas:\"))\n",
    "\n",
    " #calcular el precio del descuento\n",
    " precio_descuento = precio_habitual*(1-descuento)\n",
    "\n",
    " #Calculo del costo final de todas las barras no frescas bendidas\n",
    "\n",
    " costo_total_no_fresco = barras_pan_no_recientes*precio_descuento\n",
    "\n",
    " #mostrar los resultados \n",
    "\n",
    " print (f\"El precio normal de una sola barra de pan es: {precio_habitual:.2f} €\")\n",
    " print (f\"El porcentaje que se realiza como descuento al no ser una barra de pan fresca es: {descuento*100: .0f}%\")\n",
    " print (f\"El costo de total de las barras de pan no frescas es:{costo_total_no_fresco: .2f} €\")\n",
    "\n",
    "if __name__ == \"__main__\":\n",
    "     main()\n"
   ]
  },
  {
   "cell_type": "code",
   "execution_count": 4,
   "metadata": {},
   "outputs": [
    {
     "name": "stdout",
     "output_type": "stream",
     "text": [
      "\n",
      "        Precio del pan: 3.49\n",
      "        El descuento aplicado es: 60%\n",
      "        El número de barras de pan no vendidas no frescas es: 20\n",
      "        Total de barras de pan vendidas no frescas es:  27.92\n",
      "\n",
      "        \n"
     ]
    }
   ],
   "source": [
    "costo_pan = 3.49\n",
    "descuento = 0.6\n",
    "\n",
    "barras_pan_no_recientes = int(input (\"Ingrese el número de barras no frescas vendidas:\"))\n",
    "precio_descuento = costo_pan*(1-descuento)\n",
    "costo_total_no_fresca = barras_pan_no_recientes*precio_descuento\n",
    "\n",
    "print(f\"\"\"\n",
    "        Precio del pan: {costo_pan}\n",
    "        El descuento aplicado es: {descuento :.0%}\n",
    "        El número de barras de pan no vendidas no frescas es: {barras_pan_no_recientes}\n",
    "        Total de barras de pan vendidas no frescas es: {costo_total_no_fresca: .2f}\n",
    "\n",
    "        \"\"\"\n",
    ")"
   ]
  },
  {
   "cell_type": "markdown",
   "metadata": {},
   "source": [
    "### 3. \n",
    "Escribir un programa que pida al usuario su peso (en kg) y estatura (en metros), calcule el índice de masa corporal y lo almacene en una variable, y muestre por pantalla la frase Tu índice de masa corporal es <imc> donde <imc> es el índice de masa corporal calculado redondeado con dos decimales.\n",
    "\n",
    "\n"
   ]
  },
  {
   "cell_type": "code",
   "execution_count": 7,
   "metadata": {},
   "outputs": [
    {
     "name": "stdout",
     "output_type": "stream",
     "text": [
      "El índice de masa corporal es:  26.61 Kg/m2\n"
     ]
    }
   ],
   "source": [
    "def main():\n",
    "  peso_usuario = float(input (\"Por favor, ingreso su peso:\"))\n",
    "  altura_usuario = float(input(\"por favor, ingrese su altura:\"))\n",
    "  indice_masa_corporal = peso_usuario/(altura_usuario**2)\n",
    "\n",
    "  print(f\"El índice de masa corporal es: {indice_masa_corporal: .2f} Kg/m2\")\n",
    "\n",
    "if __name__ == \"__main__\":\n",
    "  \n",
    "  main()"
   ]
  },
  {
   "cell_type": "markdown",
   "metadata": {},
   "source": []
  },
  {
   "cell_type": "markdown",
   "metadata": {},
   "source": [
    "4. \n",
    "\n",
    "Escriba un programa python que solicite un texto por teclado y convierta todos los carácteres en minuscula. \n",
    "Ejemplo\n",
    "\n",
    "texto ingresado -> \"Hola AmigOs\"\n",
    "resultado -> \"hola amigos\""
   ]
  },
  {
   "cell_type": "code",
   "execution_count": 11,
   "metadata": {},
   "outputs": [
    {
     "name": "stdout",
     "output_type": "stream",
     "text": [
      "Texto en minúsculas: christian manuel rojas bazan\n"
     ]
    }
   ],
   "source": [
    "def main():\n",
    "  texto_variado = input(\"Ingrese un texto :\")\n",
    "  texto_minusculas = texto_variado.lower()\n",
    "\n",
    "  print(\"Texto en minúsculas:\", texto_minusculas )\n",
    "if __name__ == \"__main__\":\n",
    "    main()\n",
    "\n"
   ]
  }
 ],
 "metadata": {
  "kernelspec": {
   "display_name": "Python 3 (ipykernel)",
   "language": "python",
   "name": "python3"
  },
  "language_info": {
   "codemirror_mode": {
    "name": "ipython",
    "version": 3
   },
   "file_extension": ".py",
   "mimetype": "text/x-python",
   "name": "python",
   "nbconvert_exporter": "python",
   "pygments_lexer": "ipython3",
   "version": "3.9.19"
  }
 },
 "nbformat": 4,
 "nbformat_minor": 4
}
